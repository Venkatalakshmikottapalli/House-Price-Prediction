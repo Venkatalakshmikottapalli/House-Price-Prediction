{
 "cells": [
  {
   "cell_type": "markdown",
   "id": "d56ce257-d454-4c65-82ae-00749273d1b8",
   "metadata": {},
   "source": [
    "## House Price Prediction"
   ]
  },
  {
   "cell_type": "markdown",
   "id": "12512207-fd7d-427f-acd6-ac7c8a7366c3",
   "metadata": {},
   "source": [
    "### Import Libraries"
   ]
  },
  {
   "cell_type": "code",
   "execution_count": 2,
   "id": "2a459b2a-8a76-4dbb-a704-4da7692eaa8c",
   "metadata": {},
   "outputs": [],
   "source": [
    "# Import libraries\n",
    "import pandas as pd\n",
    "import numpy as np\n",
    "from sklearn.model_selection import train_test_split\n",
    "from sklearn.ensemble import RandomForestRegressor\n",
    "from sklearn.metrics import mean_squared_error, r2_score\n",
    "from sklearn.ensemble import GradientBoostingRegressor\n",
    "import xgboost as xgb\n",
    "from sklearn.model_selection import GridSearchCV\n",
    "from sklearn.metrics import mean_squared_error, r2_score\n"
   ]
  },
  {
   "cell_type": "markdown",
   "id": "7a340728-4ec2-484b-b1a0-f5cfd6d099ee",
   "metadata": {},
   "source": [
    "### Load the data"
   ]
  },
  {
   "cell_type": "code",
   "execution_count": 3,
   "id": "700fc045-3a87-4e69-b287-b55327bf96e1",
   "metadata": {},
   "outputs": [
    {
     "data": {
      "text/html": [
       "<div>\n",
       "<style scoped>\n",
       "    .dataframe tbody tr th:only-of-type {\n",
       "        vertical-align: middle;\n",
       "    }\n",
       "\n",
       "    .dataframe tbody tr th {\n",
       "        vertical-align: top;\n",
       "    }\n",
       "\n",
       "    .dataframe thead th {\n",
       "        text-align: right;\n",
       "    }\n",
       "</style>\n",
       "<table border=\"1\" class=\"dataframe\">\n",
       "  <thead>\n",
       "    <tr style=\"text-align: right;\">\n",
       "      <th></th>\n",
       "      <th>price</th>\n",
       "      <th>bedrooms</th>\n",
       "      <th>bathrooms</th>\n",
       "      <th>sqft_living</th>\n",
       "      <th>sqft_lot</th>\n",
       "      <th>floors</th>\n",
       "      <th>waterfront</th>\n",
       "      <th>view</th>\n",
       "      <th>condition</th>\n",
       "      <th>sqft_above</th>\n",
       "      <th>sqft_basement</th>\n",
       "      <th>yr_built</th>\n",
       "      <th>yr_renovated</th>\n",
       "      <th>city_encoded</th>\n",
       "      <th>zip_encoded</th>\n",
       "    </tr>\n",
       "  </thead>\n",
       "  <tbody>\n",
       "    <tr>\n",
       "      <th>0</th>\n",
       "      <td>-0.766375</td>\n",
       "      <td>-0.404730</td>\n",
       "      <td>-0.829364</td>\n",
       "      <td>-0.850818</td>\n",
       "      <td>-0.186052</td>\n",
       "      <td>0.008976</td>\n",
       "      <td>0</td>\n",
       "      <td>0</td>\n",
       "      <td>3</td>\n",
       "      <td>-0.533700</td>\n",
       "      <td>-0.672124</td>\n",
       "      <td>-0.538426</td>\n",
       "      <td>1.219118</td>\n",
       "      <td>36</td>\n",
       "      <td>62</td>\n",
       "    </tr>\n",
       "    <tr>\n",
       "      <th>1</th>\n",
       "      <td>-0.634850</td>\n",
       "      <td>-0.404730</td>\n",
       "      <td>-0.139546</td>\n",
       "      <td>-0.132879</td>\n",
       "      <td>-0.074128</td>\n",
       "      <td>-0.922823</td>\n",
       "      <td>0</td>\n",
       "      <td>0</td>\n",
       "      <td>4</td>\n",
       "      <td>0.228405</td>\n",
       "      <td>-0.672124</td>\n",
       "      <td>-0.165236</td>\n",
       "      <td>-0.827385</td>\n",
       "      <td>18</td>\n",
       "      <td>26</td>\n",
       "    </tr>\n",
       "    <tr>\n",
       "      <th>2</th>\n",
       "      <td>-0.281094</td>\n",
       "      <td>-0.404730</td>\n",
       "      <td>0.205363</td>\n",
       "      <td>-0.047700</td>\n",
       "      <td>-0.182779</td>\n",
       "      <td>-0.922823</td>\n",
       "      <td>0</td>\n",
       "      <td>0</td>\n",
       "      <td>4</td>\n",
       "      <td>-0.972878</td>\n",
       "      <td>1.677763</td>\n",
       "      <td>-0.267015</td>\n",
       "      <td>-0.827385</td>\n",
       "      <td>3</td>\n",
       "      <td>7</td>\n",
       "    </tr>\n",
       "    <tr>\n",
       "      <th>3</th>\n",
       "      <td>0.308500</td>\n",
       "      <td>0.723545</td>\n",
       "      <td>0.550272</td>\n",
       "      <td>-0.120710</td>\n",
       "      <td>-0.114265</td>\n",
       "      <td>-0.922823</td>\n",
       "      <td>0</td>\n",
       "      <td>0</td>\n",
       "      <td>4</td>\n",
       "      <td>-0.792040</td>\n",
       "      <td>1.207785</td>\n",
       "      <td>0.174028</td>\n",
       "      <td>1.205849</td>\n",
       "      <td>31</td>\n",
       "      <td>31</td>\n",
       "    </tr>\n",
       "    <tr>\n",
       "      <th>4</th>\n",
       "      <td>0.036380</td>\n",
       "      <td>-1.533005</td>\n",
       "      <td>-1.519181</td>\n",
       "      <td>-1.410566</td>\n",
       "      <td>-0.228546</td>\n",
       "      <td>-0.922823</td>\n",
       "      <td>0</td>\n",
       "      <td>0</td>\n",
       "      <td>3</td>\n",
       "      <td>-1.127883</td>\n",
       "      <td>-0.672124</td>\n",
       "      <td>-1.115175</td>\n",
       "      <td>1.207890</td>\n",
       "      <td>35</td>\n",
       "      <td>54</td>\n",
       "    </tr>\n",
       "  </tbody>\n",
       "</table>\n",
       "</div>"
      ],
      "text/plain": [
       "      price  bedrooms  bathrooms  sqft_living  sqft_lot    floors  waterfront  \\\n",
       "0 -0.766375 -0.404730  -0.829364    -0.850818 -0.186052  0.008976           0   \n",
       "1 -0.634850 -0.404730  -0.139546    -0.132879 -0.074128 -0.922823           0   \n",
       "2 -0.281094 -0.404730   0.205363    -0.047700 -0.182779 -0.922823           0   \n",
       "3  0.308500  0.723545   0.550272    -0.120710 -0.114265 -0.922823           0   \n",
       "4  0.036380 -1.533005  -1.519181    -1.410566 -0.228546 -0.922823           0   \n",
       "\n",
       "   view  condition  sqft_above  sqft_basement  yr_built  yr_renovated  \\\n",
       "0     0          3   -0.533700      -0.672124 -0.538426      1.219118   \n",
       "1     0          4    0.228405      -0.672124 -0.165236     -0.827385   \n",
       "2     0          4   -0.972878       1.677763 -0.267015     -0.827385   \n",
       "3     0          4   -0.792040       1.207785  0.174028      1.205849   \n",
       "4     0          3   -1.127883      -0.672124 -1.115175      1.207890   \n",
       "\n",
       "   city_encoded  zip_encoded  \n",
       "0            36           62  \n",
       "1            18           26  \n",
       "2             3            7  \n",
       "3            31           31  \n",
       "4            35           54  "
      ]
     },
     "execution_count": 3,
     "metadata": {},
     "output_type": "execute_result"
    }
   ],
   "source": [
    "# load the dataset\n",
    "df = pd.read_csv(r'https://raw.githubusercontent.com/Venkatalakshmikottapalli/House-Price-Prediction/refs/heads/main/data/processed/house_price_prediction.csv')\n",
    "\n",
    "# print the head of the data\n",
    "df.head()"
   ]
  },
  {
   "cell_type": "code",
   "execution_count": 25,
   "id": "31b8f8af-09d0-4f48-8f25-1a597023e324",
   "metadata": {},
   "outputs": [
    {
     "data": {
      "text/plain": [
       "Index(['price', 'bedrooms', 'bathrooms', 'sqft_living', 'sqft_lot', 'floors',\n",
       "       'waterfront', 'view', 'condition', 'sqft_above', 'sqft_basement',\n",
       "       'yr_built', 'yr_renovated', 'city_encoded', 'zip_encoded'],\n",
       "      dtype='object')"
      ]
     },
     "execution_count": 25,
     "metadata": {},
     "output_type": "execute_result"
    }
   ],
   "source": [
    "df.columns"
   ]
  },
  {
   "cell_type": "markdown",
   "id": "bf51dde2-85d9-439a-81e8-ce9a1ae64b18",
   "metadata": {},
   "source": [
    "### Split the dataset"
   ]
  },
  {
   "cell_type": "code",
   "execution_count": 4,
   "id": "845480f6-7b9c-4f32-8c10-891a4a53ba3d",
   "metadata": {},
   "outputs": [],
   "source": [
    "# Define features and target\n",
    "X = df.drop(columns=['price'])  \n",
    "y = df['price']\n",
    "\n",
    "# Split the data into training and testing sets\n",
    "X_train, X_test, y_train, y_test = train_test_split(X, y, test_size=0.2, random_state=42)"
   ]
  },
  {
   "cell_type": "markdown",
   "id": "541f00f7-d30b-4aa6-81c0-c12a79e507c9",
   "metadata": {},
   "source": [
    "### Model Building"
   ]
  },
  {
   "cell_type": "markdown",
   "id": "40fa8560-2942-4117-97bd-26fb646f410d",
   "metadata": {},
   "source": [
    "### Random Forest"
   ]
  },
  {
   "cell_type": "code",
   "execution_count": 19,
   "id": "c5e755a1-28f7-4c66-bdd5-8065042e62b0",
   "metadata": {},
   "outputs": [
    {
     "name": "stdout",
     "output_type": "stream",
     "text": [
      "Random Forest MSE: 0.34107006281997493\n",
      "Random Forest RMSE: 0.5840120399614848\n",
      "Random Forest R²: 0.6653417940966102\n"
     ]
    }
   ],
   "source": [
    "# Initialize the model\n",
    "rf_model = RandomForestRegressor(n_estimators=100, random_state=42)\n",
    "\n",
    "# Fit the model on the training data\n",
    "rf_model.fit(X_train, y_train)\n",
    "\n",
    "# Predict on the test data\n",
    "y_pred_rf = rf_model.predict(X_test)\n",
    "\n",
    "# Evaluate the model\n",
    "mse_rf = mean_squared_error(y_test, y_pred_rf)\n",
    "rmse_rf = np.sqrt(mse_rf)\n",
    "r2_rf = r2_score(y_test, y_pred_rf)\n",
    "\n",
    "print(f\"Random Forest MSE: {mse_rf}\")\n",
    "print(f\"Random Forest RMSE: {rmse_rf}\")\n",
    "print(f\"Random Forest R²: {r2_rf}\")\n"
   ]
  },
  {
   "cell_type": "markdown",
   "id": "4e3e923b-4990-4dfa-a34f-19d63cdca6c8",
   "metadata": {},
   "source": [
    "### Gradient Boosting"
   ]
  },
  {
   "cell_type": "code",
   "execution_count": 20,
   "id": "bc5892a6-a5d5-45b3-8ecc-191e30055e47",
   "metadata": {},
   "outputs": [
    {
     "name": "stdout",
     "output_type": "stream",
     "text": [
      "Gradient Boosting MSE: 0.3757460859154083\n",
      "Gradient Boosting RMSE: 0.6129813095971266\n",
      "Gradient Boosting R²: 0.6313176537747214\n"
     ]
    }
   ],
   "source": [
    "# Initialize the model\n",
    "gb_model = GradientBoostingRegressor(random_state=42)\n",
    "\n",
    "# Fit the model on the training data\n",
    "gb_model.fit(X_train, y_train)\n",
    "\n",
    "# Predict on the test data\n",
    "y_pred_gb = gb_model.predict(X_test)\n",
    "\n",
    "# Evaluate the model\n",
    "mse_gb = mean_squared_error(y_test, y_pred_gb)\n",
    "rmse_gb = np.sqrt(mse_gb)\n",
    "r2_gb = r2_score(y_test, y_pred_gb)\n",
    "\n",
    "print(f\"Gradient Boosting MSE: {mse_gb}\")\n",
    "print(f\"Gradient Boosting RMSE: {rmse_gb}\")\n",
    "print(f\"Gradient Boosting R²: {r2_gb}\")\n"
   ]
  },
  {
   "cell_type": "markdown",
   "id": "94637b71-f01e-4282-a10f-dc54016113e9",
   "metadata": {},
   "source": [
    "### XGB"
   ]
  },
  {
   "cell_type": "code",
   "execution_count": 21,
   "id": "dda6be92-f926-487b-a361-bff5e79c0cd0",
   "metadata": {},
   "outputs": [
    {
     "name": "stdout",
     "output_type": "stream",
     "text": [
      "XGBoost MSE: 0.3288292492704078\n",
      "XGBoost RMSE: 0.5734363515425298\n",
      "XGBoost R²: 0.6773524896921901\n"
     ]
    }
   ],
   "source": [
    "# Initialize the model\n",
    "xgb_model = xgb.XGBRegressor(random_state=42)\n",
    "\n",
    "# Fit the model on the training data\n",
    "xgb_model.fit(X_train, y_train)\n",
    "\n",
    "# Predict on the test data\n",
    "y_pred_xgb = xgb_model.predict(X_test)\n",
    "\n",
    "# Evaluate the model\n",
    "mse_xgb = mean_squared_error(y_test, y_pred_xgb)\n",
    "rmse_xgb = np.sqrt(mse_xgb)\n",
    "r2_xgb = r2_score(y_test, y_pred_xgb)\n",
    "\n",
    "print(f\"XGBoost MSE: {mse_xgb}\")\n",
    "print(f\"XGBoost RMSE: {rmse_xgb}\")\n",
    "print(f\"XGBoost R²: {r2_xgb}\")\n"
   ]
  },
  {
   "cell_type": "markdown",
   "id": "d625200f-b43d-402f-b121-2eb4f85813c4",
   "metadata": {},
   "source": [
    "### Hyperparameter Tuning"
   ]
  },
  {
   "cell_type": "markdown",
   "id": "a1a6171e-1f86-4387-bd52-08fda9cfab6d",
   "metadata": {},
   "source": [
    "### Final Model"
   ]
  },
  {
   "cell_type": "code",
   "execution_count": 6,
   "id": "29f98f6d-65fb-4f2b-8d2e-8112c4bb5680",
   "metadata": {},
   "outputs": [
    {
     "name": "stdout",
     "output_type": "stream",
     "text": [
      "Tuned XGBoost MSE: 0.30418850858127555\n",
      "Tuned XGBoost RMSE: 0.5515328717141668\n",
      "Tuned XGBoost R²: 0.7015300032592726\n"
     ]
    }
   ],
   "source": [
    "import xgboost as xgb\n",
    "from sklearn.metrics import mean_squared_error, r2_score\n",
    "import numpy as np\n",
    "\n",
    "# Initialize the model with the best hyperparameters found from GridSearchCV\n",
    "best_model = xgb.XGBRegressor(\n",
    "    learning_rate=0.1,          # Best learning rate\n",
    "    max_depth=7,                # Best max_depth\n",
    "    n_estimators=100,           # Best number of estimators\n",
    "    subsample=0.8,              # Best subsample ratio\n",
    "    colsample_bytree=0.8,       # \n",
    "    random_state=42\n",
    ")\n",
    "\n",
    "# Fit the final model on the entire training data\n",
    "best_model.fit(X_train, y_train)\n",
    "\n",
    "# Make predictions with the best model\n",
    "y_pred_xgb_tuned = best_model.predict(X_test)\n",
    "\n",
    "# Round predictions to the nearest integer\n",
    "y_pred_xgb_tuned = np.round(y_pred_xgb_tuned)\n",
    "\n",
    "# Evaluate the tuned model\n",
    "mse_xgb_tuned = mean_squared_error(y_test, y_pred_xgb_tuned)\n",
    "rmse_xgb_tuned = np.sqrt(mse_xgb_tuned)\n",
    "r2_xgb_tuned = r2_score(y_test, y_pred_xgb_tuned)\n",
    "\n",
    "# Print evaluation metrics\n",
    "print(f\"Tuned XGBoost MSE: {mse_xgb_tuned}\")\n",
    "print(f\"Tuned XGBoost RMSE: {rmse_xgb_tuned}\")\n",
    "print(f\"Tuned XGBoost R²: {r2_xgb_tuned}\")"
   ]
  },
  {
   "cell_type": "code",
   "execution_count": 8,
   "id": "3d86331d-7ca8-4548-84e8-46f5ef0a8f00",
   "metadata": {},
   "outputs": [
    {
     "name": "stdout",
     "output_type": "stream",
     "text": [
      "Predicted price: 0.8098351955413818\n",
      "Actual predicted price: [809.8352]\n"
     ]
    }
   ],
   "source": [
    "# Example new data (replace with your actual new data)\n",
    "import pandas as pd\n",
    "new_data = pd.DataFrame({\n",
    "    'bedrooms': [3],\n",
    "    'bathrooms': [2],\n",
    "    'sqft_living': [1800],\n",
    "    'sqft_lot': [5000],\n",
    "    'floors': [2],\n",
    "    'waterfront': [0],\n",
    "    'view': [0],\n",
    "    'condition': [3],\n",
    "    'sqft_above': [1600],\n",
    "    'sqft_basement': [200],\n",
    "    'yr_built': [1995],\n",
    "    'yr_renovated': [0],\n",
    "    'zip_encoded': [98052]  \n",
    "})\n",
    "\n",
    "# Ensure new data only includes the relevant columns\n",
    "input_features = ['bedrooms', 'bathrooms', 'sqft_living', 'sqft_lot', 'floors',\n",
    "                  'waterfront', 'view', 'condition', 'sqft_above', 'sqft_basement',\n",
    "                  'yr_built', 'yr_renovated', 'zip_encoded']\n",
    "\n",
    "new_data = new_data[input_features]\n",
    "\n",
    "# Make predictions on the new data\n",
    "new_predictions = best_model.predict(new_data)\n",
    "\n",
    "# Round predictions to the nearest integer\n",
    "new_predictions = np.round(new_predictions).astype(int)\n",
    "\n",
    "# Print the prediction\n",
    "print(f\"Predicted price for new data: {new_predictions[0]}\")"
   ]
  }
 ],
 "metadata": {
  "kernelspec": {
   "display_name": "Python 3 (ipykernel)",
   "language": "python",
   "name": "python3"
  },
  "language_info": {
   "codemirror_mode": {
    "name": "ipython",
    "version": 3
   },
   "file_extension": ".py",
   "mimetype": "text/x-python",
   "name": "python",
   "nbconvert_exporter": "python",
   "pygments_lexer": "ipython3",
   "version": "3.11.5"
  }
 },
 "nbformat": 4,
 "nbformat_minor": 5
}
